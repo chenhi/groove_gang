{
 "cells": [
  {
   "cell_type": "markdown",
   "metadata": {},
   "source": [
    "# For processing"
   ]
  },
  {
   "cell_type": "code",
   "execution_count": 22,
   "metadata": {},
   "outputs": [
    {
     "name": "stderr",
     "output_type": "stream",
     "text": [
      "/home/harrison/erdos/groove_gang/beatnet/venv/lib/python3.12/site-packages/BeatNet/BeatNet.py:74: FutureWarning: You are using `torch.load` with `weights_only=False` (the current default value), which uses the default pickle module implicitly. It is possible to construct malicious pickle data which will execute arbitrary code during unpickling (See https://github.com/pytorch/pytorch/blob/main/SECURITY.md#untrusted-models for more details). In a future release, the default value for `weights_only` will be flipped to `True`. This limits the functions that could be executed during unpickling. Arbitrary objects will no longer be allowed to be loaded via this mode unless they are explicitly allowlisted by the user via `torch.serialization.add_safe_globals`. We recommend you start setting `weights_only=True` for any use case where you don't have full control of the loaded file. Please open an issue on GitHub for any issues related to this experimental feature.\n",
      "  self.model.load_state_dict(torch.load(os.path.join(script_dir, 'models/model_1_weights.pt')), strict=False)\n"
     ]
    }
   ],
   "source": [
    "from BeatNet.BeatNet import BeatNet\n",
    "import pickle as pkl\n",
    "import os\n",
    "\n",
    "estimator = BeatNet(1, mode='offline', inference_model='DBN', plot=[], thread=False)\n",
    "\n",
    "\n",
    "directory = os.fsencode('inputs/')\n",
    "\n",
    "data = {}\n",
    "with open(\"beat_data.pkl\",\"rb\") as f:\n",
    "    data = pkl.load(f)\n",
    "\n",
    "for file in os.listdir(directory):\n",
    "    filename = os.fsdecode(file)\n",
    "    if filename.endswith(\".wav\") or filename.endswith(\".mp3\"): \n",
    "        name = filename[:-4]\n",
    "        if name not in data:\n",
    "            data[name] = estimator.process(\"inputs/\" + filename)\n",
    "        else:\n",
    "            print(\"Name already exists!  Not processed.\")\n",
    "\n",
    "with open(\"beat_data.pkl\",\"wb+\") as f:\n",
    "    pkl.dump(data, f)"
   ]
  },
  {
   "cell_type": "markdown",
   "metadata": {},
   "source": [
    "# For loading"
   ]
  },
  {
   "cell_type": "code",
   "execution_count": 2,
   "metadata": {},
   "outputs": [
    {
     "data": {
      "text/plain": [
       "dict_keys(['fengs', 'lms', '100bpm', 'awakening'])"
      ]
     },
     "execution_count": 2,
     "metadata": {},
     "output_type": "execute_result"
    }
   ],
   "source": [
    "import pickle as pkl\n",
    "\n",
    "with open(\"beat_data.pkl\",\"rb\") as f:\n",
    "    data = pkl.load(f)\n",
    "\n",
    "data.keys()"
   ]
  },
  {
   "cell_type": "code",
   "execution_count": 9,
   "metadata": {},
   "outputs": [
    {
     "data": {
      "text/plain": [
       "<matplotlib.collections.PathCollection at 0x7c1198482a20>"
      ]
     },
     "execution_count": 9,
     "metadata": {},
     "output_type": "execute_result"
    },
    {
     "data": {
      "image/png": "[encoded data removed]",
      "text/plain": [
       "<Figure size 2400x200 with 1 Axes>"
      ]
     },
     "metadata": {},
     "output_type": "display_data"
    }
   ],
   "source": [
    "import matplotlib.pyplot as plt\n",
    "import numpy as np\n",
    "\n",
    "plt.figure(figsize=(24,2))\n",
    "plt.scatter(data['awakening'][:,0], np.zeros(data['awakening'].shape[0]), marker='o')"
   ]
  },
  {
   "cell_type": "markdown",
   "metadata": {},
   "source": [
    "# For testing"
   ]
  },
  {
   "cell_type": "code",
   "execution_count": 21,
   "metadata": {},
   "outputs": [
    {
     "name": "stderr",
     "output_type": "stream",
     "text": [
      "/home/harrison/erdos/groove_gang/beatnet/venv/lib/python3.12/site-packages/BeatNet/BeatNet.py:74: FutureWarning: You are using `torch.load` with `weights_only=False` (the current default value), which uses the default pickle module implicitly. It is possible to construct malicious pickle data which will execute arbitrary code during unpickling (See https://github.com/pytorch/pytorch/blob/main/SECURITY.md#untrusted-models for more details). In a future release, the default value for `weights_only` will be flipped to `True`. This limits the functions that could be executed during unpickling. Arbitrary objects will no longer be allowed to be loaded via this mode unless they are explicitly allowlisted by the user via `torch.serialization.add_safe_globals`. We recommend you start setting `weights_only=True` for any use case where you don't have full control of the loaded file. Please open an issue on GitHub for any issues related to this experimental feature.\n",
      "  self.model.load_state_dict(torch.load(os.path.join(script_dir, 'models/model_1_weights.pt')), strict=False)\n"
     ]
    },
    {
     "data": {
      "text/plain": [
       "array([[  0.3 ,   3.  ],\n",
       "       [  1.1 ,   1.  ],\n",
       "       [  1.9 ,   2.  ],\n",
       "       [  2.7 ,   3.  ],\n",
       "       [  3.48,   1.  ],\n",
       "       [  4.26,   2.  ],\n",
       "       [  5.08,   3.  ],\n",
       "       [  5.94,   1.  ],\n",
       "       [  6.76,   2.  ],\n",
       "       [  7.58,   3.  ],\n",
       "       [  8.36,   1.  ],\n",
       "       [  9.18,   2.  ],\n",
       "       [ 10.  ,   3.  ],\n",
       "       [ 10.86,   1.  ],\n",
       "       [ 11.62,   2.  ],\n",
       "       [ 12.4 ,   3.  ],\n",
       "       [ 13.12,   1.  ],\n",
       "       [ 13.86,   2.  ],\n",
       "       [ 14.58,   3.  ],\n",
       "       [ 15.3 ,   1.  ],\n",
       "       [ 16.  ,   2.  ],\n",
       "       [ 16.66,   3.  ],\n",
       "       [ 17.36,   1.  ],\n",
       "       [ 18.06,   2.  ],\n",
       "       [ 18.8 ,   3.  ],\n",
       "       [ 19.5 ,   1.  ],\n",
       "       [ 20.24,   2.  ],\n",
       "       [ 20.94,   3.  ],\n",
       "       [ 21.68,   1.  ],\n",
       "       [ 22.32,   2.  ],\n",
       "       [ 23.  ,   3.  ],\n",
       "       [ 23.7 ,   1.  ],\n",
       "       [ 24.38,   2.  ],\n",
       "       [ 25.06,   3.  ],\n",
       "       [ 25.76,   1.  ],\n",
       "       [ 26.4 ,   2.  ],\n",
       "       [ 27.06,   3.  ],\n",
       "       [ 27.7 ,   1.  ],\n",
       "       [ 28.48,   2.  ],\n",
       "       [ 29.2 ,   3.  ],\n",
       "       [ 29.96,   1.  ],\n",
       "       [ 30.68,   2.  ],\n",
       "       [ 31.44,   3.  ],\n",
       "       [ 32.16,   1.  ],\n",
       "       [ 32.92,   2.  ],\n",
       "       [ 33.62,   3.  ],\n",
       "       [ 34.28,   1.  ],\n",
       "       [ 35.  ,   2.  ],\n",
       "       [ 35.62,   3.  ],\n",
       "       [ 36.28,   1.  ],\n",
       "       [ 36.98,   2.  ],\n",
       "       [ 37.64,   3.  ],\n",
       "       [ 38.28,   1.  ],\n",
       "       [ 38.92,   2.  ],\n",
       "       [ 39.6 ,   3.  ],\n",
       "       [ 40.24,   1.  ],\n",
       "       [ 40.92,   2.  ],\n",
       "       [ 41.6 ,   3.  ],\n",
       "       [ 42.24,   1.  ],\n",
       "       [ 42.92,   2.  ],\n",
       "       [ 43.56,   3.  ],\n",
       "       [ 44.24,   1.  ],\n",
       "       [ 44.94,   2.  ],\n",
       "       [ 45.64,   3.  ],\n",
       "       [ 46.3 ,   1.  ],\n",
       "       [ 47.02,   2.  ],\n",
       "       [ 47.74,   3.  ],\n",
       "       [ 48.46,   1.  ],\n",
       "       [ 49.16,   2.  ],\n",
       "       [ 49.82,   3.  ],\n",
       "       [ 50.54,   1.  ],\n",
       "       [ 51.24,   2.  ],\n",
       "       [ 51.94,   3.  ],\n",
       "       [ 52.62,   1.  ],\n",
       "       [ 53.38,   2.  ],\n",
       "       [ 54.08,   3.  ],\n",
       "       [ 54.82,   1.  ],\n",
       "       [ 55.52,   2.  ],\n",
       "       [ 56.2 ,   3.  ],\n",
       "       [ 56.9 ,   1.  ],\n",
       "       [ 57.6 ,   2.  ],\n",
       "       [ 58.32,   3.  ],\n",
       "       [ 59.02,   1.  ],\n",
       "       [ 59.68,   2.  ],\n",
       "       [ 60.44,   3.  ],\n",
       "       [ 61.16,   1.  ],\n",
       "       [ 61.84,   2.  ],\n",
       "       [ 62.56,   3.  ],\n",
       "       [ 63.3 ,   1.  ],\n",
       "       [ 63.96,   2.  ],\n",
       "       [ 64.66,   3.  ],\n",
       "       [ 65.4 ,   1.  ],\n",
       "       [ 66.06,   2.  ],\n",
       "       [ 66.8 ,   3.  ],\n",
       "       [ 67.48,   1.  ],\n",
       "       [ 68.16,   2.  ],\n",
       "       [ 68.8 ,   3.  ],\n",
       "       [ 69.46,   1.  ],\n",
       "       [ 70.14,   2.  ],\n",
       "       [ 70.82,   3.  ],\n",
       "       [ 71.48,   1.  ],\n",
       "       [ 72.1 ,   2.  ],\n",
       "       [ 72.78,   3.  ],\n",
       "       [ 73.4 ,   1.  ],\n",
       "       [ 74.02,   2.  ],\n",
       "       [ 74.64,   3.  ],\n",
       "       [ 75.24,   1.  ],\n",
       "       [ 75.86,   2.  ],\n",
       "       [ 76.5 ,   3.  ],\n",
       "       [ 77.12,   1.  ],\n",
       "       [ 77.72,   2.  ],\n",
       "       [ 78.36,   3.  ],\n",
       "       [ 78.96,   1.  ],\n",
       "       [ 79.6 ,   2.  ],\n",
       "       [ 80.22,   3.  ],\n",
       "       [ 80.82,   1.  ],\n",
       "       [ 81.44,   2.  ],\n",
       "       [ 82.08,   3.  ],\n",
       "       [ 82.68,   1.  ],\n",
       "       [ 83.3 ,   2.  ],\n",
       "       [ 83.92,   3.  ],\n",
       "       [ 84.54,   1.  ],\n",
       "       [ 85.18,   2.  ],\n",
       "       [ 85.8 ,   3.  ],\n",
       "       [ 86.42,   1.  ],\n",
       "       [ 87.02,   2.  ],\n",
       "       [ 87.64,   3.  ],\n",
       "       [ 88.28,   1.  ],\n",
       "       [ 88.88,   2.  ],\n",
       "       [ 89.5 ,   3.  ],\n",
       "       [ 90.12,   1.  ],\n",
       "       [ 90.74,   2.  ],\n",
       "       [ 91.36,   3.  ],\n",
       "       [ 91.98,   1.  ],\n",
       "       [ 92.62,   2.  ],\n",
       "       [ 93.24,   3.  ],\n",
       "       [ 93.84,   1.  ],\n",
       "       [ 94.46,   2.  ],\n",
       "       [ 95.1 ,   3.  ],\n",
       "       [ 95.72,   1.  ],\n",
       "       [ 96.36,   2.  ],\n",
       "       [ 96.98,   3.  ],\n",
       "       [ 97.66,   1.  ],\n",
       "       [ 98.36,   2.  ],\n",
       "       [ 99.  ,   3.  ],\n",
       "       [ 99.8 ,   1.  ],\n",
       "       [100.56,   2.  ],\n",
       "       [101.4 ,   3.  ],\n",
       "       [102.2 ,   1.  ],\n",
       "       [102.98,   2.  ],\n",
       "       [103.76,   3.  ],\n",
       "       [104.62,   1.  ],\n",
       "       [105.42,   2.  ],\n",
       "       [106.22,   3.  ],\n",
       "       [107.06,   1.  ],\n",
       "       [107.94,   2.  ],\n",
       "       [108.76,   3.  ],\n",
       "       [109.58,   1.  ],\n",
       "       [110.36,   2.  ],\n",
       "       [111.06,   3.  ],\n",
       "       [111.78,   1.  ],\n",
       "       [112.5 ,   2.  ],\n",
       "       [113.26,   3.  ],\n",
       "       [113.9 ,   1.  ],\n",
       "       [114.56,   2.  ],\n",
       "       [115.2 ,   3.  ],\n",
       "       [115.86,   1.  ],\n",
       "       [116.56,   2.  ],\n",
       "       [117.18,   3.  ],\n",
       "       [117.82,   1.  ],\n",
       "       [118.48,   2.  ],\n",
       "       [119.12,   3.  ],\n",
       "       [119.74,   1.  ],\n",
       "       [120.4 ,   2.  ],\n",
       "       [121.04,   3.  ],\n",
       "       [121.68,   1.  ],\n",
       "       [122.32,   2.  ]])"
      ]
     },
     "execution_count": 21,
     "metadata": {},
     "output_type": "execute_result"
    }
   ],
   "source": [
    "from BeatNet.BeatNet import BeatNet\n",
    "\n",
    "estimator = BeatNet(1, mode='offline', inference_model='DBN', plot=[], thread=False)\n",
    "\n",
    "estimator.process(\"inputs/awakening.mp3\")\n",
    "\n"
   ]
  }
 ],
 "metadata": {
  "kernelspec": {
   "display_name": "venv",
   "language": "python",
   "name": "python3"
  },
  "language_info": {
   "codemirror_mode": {
    "name": "ipython",
    "version": 3
   },
   "file_extension": ".py",
   "mimetype": "text/x-python",
   "name": "python",
   "nbconvert_exporter": "python",
   "pygments_lexer": "ipython3",
   "version": "3.12.3"
  }
 },
 "nbformat": 4,
 "nbformat_minor": 2
}
