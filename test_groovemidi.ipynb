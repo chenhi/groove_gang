{
 "cells": [
  {
   "cell_type": "code",
   "execution_count": 2,
   "metadata": {},
   "outputs": [],
   "source": [
    "import pickle as pkl\n",
    "import random\n",
    "\n",
    "NUM_SAMPLES = 10\n",
    "\n",
    "with open(\"data/groovemidi_beatnet_data.pkl\",\"rb\") as f:\n",
    "    data = pkl.load(f)\n",
    "\n",
    "data.keys()\n",
    "\n",
    "drop_keys = []\n",
    "for k in data.keys():\n",
    "    if 'fill' in k:\n",
    "        drop_keys.append(k)\n",
    "\n",
    "for k in drop_keys:\n",
    "    del data[k]\n",
    "\n",
    "sample = random.sample(sorted(data.keys()), NUM_SAMPLES)"
   ]
  },
  {
   "cell_type": "code",
   "execution_count": 7,
   "metadata": {},
   "outputs": [],
   "source": [
    "import numpy as np\n",
    "import librosa\n",
    "import matplotlib.pyplot as plt\n",
    "from IPython.display import Audio\n",
    "\n",
    "def test_audio(file: str):\n",
    "    beat_data = data[file]\n",
    "    db = beat_data[beat_data[:,1] == 1, 0]\n",
    "    y, sr = librosa.load(f'{file}.wav')\n",
    "    clicks = librosa.clicks(times=db, sr=sr)\n",
    "    if y.shape[0] < clicks.shape[0]:\n",
    "        clicks = clicks[:y.shape[0]]\n",
    "    if y.shape[0] > clicks.shape[0]:\n",
    "        clicks = np.concatenate([clicks, np.zeros(y.shape[0] - clicks.shape[0])], axis=0)\n",
    "    print(file)\n",
    "    display(Audio(data=y, rate=sr))\n",
    "    display(Audio(data=y + 0.5 * clicks, rate=sr))"
   ]
  },
  {
   "cell_type": "code",
   "execution_count": 9,
   "metadata": {},
   "outputs": [
    {
     "name": "stdout",
     "output_type": "stream",
     "text": [
      "Comment above out before pushing to save space.\n",
      "Comment above out before pushing to save space.\n",
      "Comment above out before pushing to save space.\n",
      "Comment above out before pushing to save space.\n",
      "Comment above out before pushing to save space.\n",
      "Comment above out before pushing to save space.\n",
      "Comment above out before pushing to save space.\n",
      "Comment above out before pushing to save space.\n",
      "Comment above out before pushing to save space.\n",
      "Comment above out before pushing to save space.\n"
     ]
    }
   ],
   "source": [
    "for s in sample:\n",
    "    #test_audio(s)\n",
    "    print(\"Comment above out before pushing to save space.\")"
   ]
  }
 ],
 "metadata": {
  "kernelspec": {
   "display_name": "venv",
   "language": "python",
   "name": "python3"
  },
  "language_info": {
   "codemirror_mode": {
    "name": "ipython",
    "version": 3
   },
   "file_extension": ".py",
   "mimetype": "text/x-python",
   "name": "python",
   "nbconvert_exporter": "python",
   "pygments_lexer": "ipython3",
   "version": "3.12.3"
  }
 },
 "nbformat": 4,
 "nbformat_minor": 2
}
