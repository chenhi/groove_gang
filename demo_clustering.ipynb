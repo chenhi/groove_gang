{
 "cells": [
  {
   "cell_type": "markdown",
   "metadata": {},
   "source": [
    "# Guassian mixture intra-song clustering for identification of \"main\" beats"
   ]
  },
  {
   "cell_type": "markdown",
   "metadata": {},
   "source": [
    "Code for doing tests"
   ]
  },
  {
   "cell_type": "code",
   "execution_count": 1,
   "metadata": {},
   "outputs": [],
   "source": [
    "%load_ext autoreload\n",
    "%autoreload 2\n",
    "\n",
    "import matplotlib.pyplot as plt\n",
    "import numpy as np\n",
    "import math\n",
    "import librosa\n",
    "\n",
    "from sklearn.mixture import GaussianMixture, BayesianGaussianMixture\n",
    "from sklearn.decomposition import PCA\n",
    "\n",
    "from groove.downbeats import get_measures, get_beat_frames, smooth_power, beat_peaks, get_beat_data, get_audio_data\n",
    "from groove.embedding import bar_embedding, load_bar_embedding, load_bar_embedding_total, bar_embedding_total\n",
    "from groove.downbeats import get_measures, get_beat_frames, smooth_power, beat_peaks, get_beat_data, get_audio_data\n",
    "from groove.intraclustering import get_ellipse_patch, get_patches, winnow_gm_components, ellipse_contains_points, find_closest_indices\n",
    "\n",
    "\n",
    "def get_groove_type(key: str):\n",
    "    return key.split('_')[1].split('/')[0]\n",
    "\n",
    "def get_reduced_groove_type(key: str):\n",
    "    return key.split('_')[1].split('/')[0].split('-')[0]\n",
    "\n",
    "\n",
    "\n",
    "# Some settings\n",
    "DROP_FILL = True\n",
    "REDUCED_CATEGORIES = True\n",
    "REPROCESS = False\n",
    "SAVE_PROCESSED = False"
   ]
  },
  {
   "cell_type": "markdown",
   "metadata": {},
   "source": [
    "Load the file and process data using the embedding"
   ]
  },
  {
   "cell_type": "code",
   "execution_count": null,
   "metadata": {},
   "outputs": [
    {
     "name": "stdout",
     "output_type": "stream",
     "text": [
      "1039 groove samples loaded.\n",
      "Loaded processed data.\n"
     ]
    }
   ],
   "source": [
    "import pickle as pkl\n",
    "\n",
    "with open(\"data/groovemidi_beatnet_data.pkl\",\"rb\") as f:\n",
    "    bn_data = pkl.load(f)\n",
    "\n",
    "print(f\"{len(bn_data.keys())} groove samples loaded.\")\n",
    "\n",
    "if REPROCESS:\n",
    "\n",
    "    divs = np.array([3, 4, 6, 8, 9, 12, 16])\n",
    "    wts = 1/np.sqrt(divs)\n",
    "\n",
    "    data = {}\n",
    "\n",
    "    for key in bn_data:\n",
    "        if DROP_FILL and 'fill' in key:\n",
    "            print(f\"Dropped {key}\")\n",
    "            continue\n",
    "        \n",
    "        y, sr = librosa.load(f'{key}.wav')\n",
    "        proc = smooth_power(y, sr)\n",
    "        beat_data = bn_data[key]\n",
    "        db = beat_data[beat_data[:,1] == 1, 0]\n",
    "\n",
    "        # Some of the tracks are very short; skip them\n",
    "        if db.shape[0] < 2:\n",
    "            continue\n",
    "        embeds = bar_embedding_total(proc/max(abs(proc)), db, divs, sr)\n",
    "\n",
    "        for i, e in enumerate(embeds):\n",
    "            embeds[i] = embeds[i] * wts[i]\n",
    "\n",
    "        data[key] = np.concatenate(embeds, axis=1)\n",
    "\n",
    "    print(f\"{len(list(data))} samples processed.\")\n",
    "    if SAVE_PROCESSED:\n",
    "        with open(\"data/groovemidi_beatnet_processed_data.pkl\",\"wb+\") as f:\n",
    "            pkl.dump(data, f)\n",
    "            print(\"Saved processed data.\")\n",
    "\n",
    "else:\n",
    "    with open(\"data/groovemidi_beatnet_processed_data.pkl\", \"rb\") as f:\n",
    "        data = pkl.load(f)\n",
    "        print(\"Loaded processed data.\")"
   ]
  },
  {
   "cell_type": "code",
   "execution_count": 3,
   "metadata": {},
   "outputs": [
    {
     "name": "stdout",
     "output_type": "stream",
     "text": [
      "['afrobeat', 'afrocuban', 'blues', 'country', 'dance', 'funk', 'gospel', 'highlife', 'hiphop', 'jazz', 'latin', 'middleeastern', 'neworleans', 'pop', 'punk', 'reggae', 'rock', 'session', 'soul']\n"
     ]
    },
    {
     "name": "stderr",
     "output_type": "stream",
     "text": [
      "/tmp/ipykernel_25537/1629520745.py:13: MatplotlibDeprecationWarning: The get_cmap function was deprecated in Matplotlib 3.7 and will be removed in 3.11. Use ``matplotlib.colormaps[name]`` or ``matplotlib.colormaps.get_cmap()`` or ``pyplot.get_cmap()`` instead.\n",
      "  return plt.cm.get_cmap(name, n)\n"
     ]
    },
    {
     "data": {
      "image/png": "[encoded data removed]",
      "text/plain": [
       "<Figure size 640x480 with 1 Axes>"
      ]
     },
     "metadata": {},
     "output_type": "display_data"
    }
   ],
   "source": [
    "groove_names = set()\n",
    "for key in bn_data:\n",
    "    if REDUCED_CATEGORIES:\n",
    "        groove_names.add(get_reduced_groove_type(key))\n",
    "    else:\n",
    "        groove_names.add(get_groove_type(key))\n",
    "groove_names = list(groove_names)\n",
    "groove_names.sort()\n",
    "\n",
    "def get_cmap(n, name='hsv'):\n",
    "    '''Returns a function that maps each index in 0, 1, ..., n-1 to a distinct \n",
    "    RGB color; the keyword argument name must be a standard mpl colormap name.'''\n",
    "    return plt.cm.get_cmap(name, n)\n",
    "\n",
    "\n",
    "groove_colors = get_cmap(len(groove_names))\n",
    "\n",
    "for i in range(len(groove_names)):\n",
    "    plt.scatter([i], [i], color=groove_colors(i))\n",
    "\n",
    "print(groove_names)"
   ]
  },
  {
   "cell_type": "code",
   "execution_count": null,
   "metadata": {},
   "outputs": [
    {
     "name": "stdout",
     "output_type": "stream",
     "text": [
      "Loaded.\n"
     ]
    }
   ],
   "source": [
    "from groove.intraclustering import get_primary_gaussian_mean\n",
    "\n",
    "\n",
    "if REPROCESS:\n",
    "    keys = []\n",
    "    measures = []\n",
    "    name_indices = []\n",
    "\n",
    "    for key in data:\n",
    "        keys.append(key)\n",
    "        embed = data[key]\n",
    "        measures.append(get_primary_gaussian_mean(embed))\n",
    "        if REDUCED_CATEGORIES:\n",
    "            groove_name = get_reduced_groove_type(key)\n",
    "        else:\n",
    "            groove_name = get_groove_type(key)\n",
    "        name_indices.append(groove_names.index(groove_name))\n",
    "        \n",
    "    print(f\"Processed {len(measures)} data.\")\n",
    "\n",
    "    if SAVE_PROCESSED:\n",
    "        with open(\"data/groovemidi_beatnet_measure_data.pkl\",\"wb+\") as f:\n",
    "            pkl.dump({'keys': np.array(keys), 'measures': np.stack(measures), 'name_indices': np.array(name_indices), 'groove_names': groove_names}, f)\n",
    "            print(\"Saved.\")\n",
    "else:\n",
    "    with open(\"data/groovemidi_beatnet_measure_data.pkl\", \"rb\") as f:\n",
    "        temp = pkl.load(f)\n",
    "        keys = temp['keys']\n",
    "        measures = temp['measures']\n",
    "        name_indices = temp['name_indices']\n",
    "        print(\"Loaded.\")"
   ]
  },
  {
   "cell_type": "code",
   "execution_count": 35,
   "metadata": {},
   "outputs": [],
   "source": [
    "INCLUDE = True\n",
    "INCLUDE_INDICES = [groove_names.index('jazz'), groove_names.index('rock')]\n",
    "EXCLUDE_INDICES = []\n",
    "\n",
    "if INCLUDE:\n",
    "    inds = np.full(name_indices.shape, False)\n",
    "    for i in INCLUDE_INDICES:\n",
    "        inds = inds | (name_indices == i)\n",
    "else:\n",
    "    inds = np.full(name_indices.shape, True)\n",
    "    for i in EXCLUDE_INDICES:\n",
    "        inds = inds & (name_indices != i)\n",
    "\n",
    "mdata = measures[inds]\n",
    "ndata = name_indices[inds]\n",
    "kdata = keys[inds]\n"
   ]
  },
  {
   "cell_type": "code",
   "execution_count": 36,
   "metadata": {},
   "outputs": [
    {
     "data": {
      "image/png": "[encoded data removed]",
      "text/plain": [
       "<Figure size 1000x1000 with 1 Axes>"
      ]
     },
     "metadata": {},
     "output_type": "display_data"
    }
   ],
   "source": [
    "pca = PCA(n_components=2)\n",
    "pca.fit(mdata)\n",
    "red_measures = pca.transform(mdata)\n",
    "\n",
    "plt.figure(figsize=(10,10))\n",
    "\n",
    "for i in range(len(mdata)):\n",
    "        plt.scatter(mdata[i,0], mdata[i,1], color=groove_colors(ndata[i]), alpha=0.5, s=2)"
   ]
  },
  {
   "cell_type": "code",
   "execution_count": 37,
   "metadata": {},
   "outputs": [
    {
     "data": {
      "text/plain": [
       "[<matplotlib.lines.Line2D at 0x74e8a5d8ef90>]"
      ]
     },
     "execution_count": 37,
     "metadata": {},
     "output_type": "execute_result"
    },
    {
     "data": {
      "image/png": "[encoded data removed]",
      "text/plain": [
       "<Figure size 640x480 with 1 Axes>"
      ]
     },
     "metadata": {},
     "output_type": "display_data"
    }
   ],
   "source": [
    "from sklearn.cluster import KMeans\n",
    "\n",
    "errors = []\n",
    "\n",
    "for i in range(1, len(groove_names) + 1, 1):\n",
    "    km = KMeans(n_clusters=i)\n",
    "    km.fit(mdata)\n",
    "    errors.append(km.inertia_)\n",
    "\n",
    "\n",
    "plt.plot(range(1, len(groove_names) + 1, 1), errors)"
   ]
  },
  {
   "cell_type": "code",
   "execution_count": 38,
   "metadata": {},
   "outputs": [],
   "source": [
    "NUM_CLUSTERS = 5\n",
    "\n",
    "km = KMeans(n_clusters=NUM_CLUSTERS)\n",
    "km.fit(mdata)\n",
    "\n",
    "preds = km.predict(mdata)\n",
    "\n",
    "pred_dict = {}\n",
    "\n",
    "for i in range(NUM_CLUSTERS):\n",
    "    pred_dict[i] = []\n",
    "\n",
    "for i in range(preds.shape[0]):\n",
    "    pred_dict[preds[i].item()].append(kdata[i])"
   ]
  },
  {
   "cell_type": "code",
   "execution_count": 39,
   "metadata": {},
   "outputs": [],
   "source": [
    "pred_dict_cats = {}\n",
    "\n",
    "\n",
    "for i in range(NUM_CLUSTERS):\n",
    "    pred_dict_cats[i] = []\n",
    "\n",
    "for i in range(preds.shape[0]):\n",
    "    pred_dict_cats[preds[i].item()].append(groove_names[ndata[i]])\n",
    "\n",
    "for i in range(NUM_CLUSTERS):\n",
    "    pred_dict_cats[i].sort()"
   ]
  },
  {
   "cell_type": "code",
   "execution_count": 40,
   "metadata": {},
   "outputs": [
    {
     "data": {
      "text/plain": [
       "{0: ['jazz',\n",
       "  'jazz',\n",
       "  'jazz',\n",
       "  'jazz',\n",
       "  'jazz',\n",
       "  'jazz',\n",
       "  'jazz',\n",
       "  'jazz',\n",
       "  'rock',\n",
       "  'rock',\n",
       "  'rock',\n",
       "  'rock',\n",
       "  'rock',\n",
       "  'rock',\n",
       "  'rock',\n",
       "  'rock',\n",
       "  'rock',\n",
       "  'rock',\n",
       "  'rock',\n",
       "  'rock',\n",
       "  'rock',\n",
       "  'rock',\n",
       "  'rock',\n",
       "  'rock',\n",
       "  'rock',\n",
       "  'rock',\n",
       "  'rock',\n",
       "  'rock',\n",
       "  'rock',\n",
       "  'rock',\n",
       "  'rock',\n",
       "  'rock',\n",
       "  'rock',\n",
       "  'rock',\n",
       "  'rock',\n",
       "  'rock',\n",
       "  'rock',\n",
       "  'rock',\n",
       "  'rock',\n",
       "  'rock',\n",
       "  'rock',\n",
       "  'rock',\n",
       "  'rock',\n",
       "  'rock',\n",
       "  'rock',\n",
       "  'rock',\n",
       "  'rock',\n",
       "  'rock',\n",
       "  'rock',\n",
       "  'rock',\n",
       "  'rock',\n",
       "  'rock',\n",
       "  'rock',\n",
       "  'rock',\n",
       "  'rock',\n",
       "  'rock',\n",
       "  'rock',\n",
       "  'rock',\n",
       "  'rock',\n",
       "  'rock',\n",
       "  'rock',\n",
       "  'rock',\n",
       "  'rock',\n",
       "  'rock',\n",
       "  'rock',\n",
       "  'rock',\n",
       "  'rock',\n",
       "  'rock'],\n",
       " 1: ['rock', 'rock'],\n",
       " 2: ['jazz',\n",
       "  'jazz',\n",
       "  'jazz',\n",
       "  'jazz',\n",
       "  'jazz',\n",
       "  'jazz',\n",
       "  'jazz',\n",
       "  'jazz',\n",
       "  'jazz',\n",
       "  'jazz',\n",
       "  'jazz',\n",
       "  'jazz',\n",
       "  'jazz',\n",
       "  'jazz',\n",
       "  'jazz',\n",
       "  'jazz',\n",
       "  'jazz',\n",
       "  'jazz',\n",
       "  'jazz',\n",
       "  'jazz',\n",
       "  'jazz',\n",
       "  'jazz',\n",
       "  'jazz',\n",
       "  'jazz',\n",
       "  'jazz',\n",
       "  'rock',\n",
       "  'rock',\n",
       "  'rock',\n",
       "  'rock',\n",
       "  'rock',\n",
       "  'rock',\n",
       "  'rock',\n",
       "  'rock',\n",
       "  'rock',\n",
       "  'rock',\n",
       "  'rock',\n",
       "  'rock',\n",
       "  'rock',\n",
       "  'rock',\n",
       "  'rock',\n",
       "  'rock',\n",
       "  'rock',\n",
       "  'rock',\n",
       "  'rock',\n",
       "  'rock',\n",
       "  'rock',\n",
       "  'rock',\n",
       "  'rock',\n",
       "  'rock',\n",
       "  'rock',\n",
       "  'rock',\n",
       "  'rock',\n",
       "  'rock',\n",
       "  'rock',\n",
       "  'rock',\n",
       "  'rock',\n",
       "  'rock',\n",
       "  'rock',\n",
       "  'rock',\n",
       "  'rock',\n",
       "  'rock',\n",
       "  'rock',\n",
       "  'rock',\n",
       "  'rock',\n",
       "  'rock',\n",
       "  'rock',\n",
       "  'rock',\n",
       "  'rock',\n",
       "  'rock',\n",
       "  'rock',\n",
       "  'rock',\n",
       "  'rock',\n",
       "  'rock',\n",
       "  'rock',\n",
       "  'rock',\n",
       "  'rock',\n",
       "  'rock',\n",
       "  'rock',\n",
       "  'rock',\n",
       "  'rock',\n",
       "  'rock',\n",
       "  'rock',\n",
       "  'rock',\n",
       "  'rock',\n",
       "  'rock',\n",
       "  'rock',\n",
       "  'rock',\n",
       "  'rock',\n",
       "  'rock',\n",
       "  'rock',\n",
       "  'rock',\n",
       "  'rock'],\n",
       " 3: ['jazz', 'jazz', 'rock', 'rock'],\n",
       " 4: ['rock']}"
      ]
     },
     "execution_count": 40,
     "metadata": {},
     "output_type": "execute_result"
    }
   ],
   "source": [
    "pred_dict_cats"
   ]
  }
 ],
 "metadata": {
  "kernelspec": {
   "display_name": "venv",
   "language": "python",
   "name": "python3"
  },
  "language_info": {
   "codemirror_mode": {
    "name": "ipython",
    "version": 3
   },
   "file_extension": ".py",
   "mimetype": "text/x-python",
   "name": "python",
   "nbconvert_exporter": "python",
   "pygments_lexer": "ipython3",
   "version": "3.12.3"
  }
 },
 "nbformat": 4,
 "nbformat_minor": 2
}
