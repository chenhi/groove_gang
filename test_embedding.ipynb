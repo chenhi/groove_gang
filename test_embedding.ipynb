{
 "cells": [
  {
   "cell_type": "code",
   "execution_count": 1,
   "metadata": {},
   "outputs": [
    {
     "name": "stdout",
     "output_type": "stream",
     "text": [
      "Time (new): 2.81132435798645\n",
      "Time (old): 84.4648916721344\n",
      "Diff: [[ 0.00263391 -0.01083595 -0.00278785 -0.01848215  0.01690495]\n",
      " [ 0.01293621 -0.01326036  0.00414313 -0.0163548   0.01578459]\n",
      " [ 0.01507548 -0.01449213  0.00705595 -0.01631231  0.02066651]\n",
      " [ 0.00948068 -0.01562059  0.00042936 -0.01214696  0.02575386]\n",
      " [ 0.00855177 -0.0133107   0.00244126 -0.01860227  0.02156461]\n",
      " [ 0.01456905 -0.01759542  0.01554837 -0.01344658  0.02109711]\n",
      " [ 0.00833797 -0.00976856  0.00343849 -0.02372283  0.01952065]\n",
      " [ 0.01414657 -0.01605838  0.00687365 -0.01745981  0.02334918]\n",
      " [ 0.00739643 -0.0029966   0.01294725 -0.01090788  0.01774674]\n",
      " [-0.00258956 -0.01643185 -0.01476078 -0.01944031  0.02842669]]\n"
     ]
    }
   ],
   "source": [
    "from groove.downbeats import get_measures, get_beat_frames, smooth_power, beat_peaks, get_beat_data, get_audio_data\n",
    "#from groove.embedding import beat_frames_to_toy\n",
    "import numpy as np\n",
    "from groove.embedding import bar_embedding, load_bar_embedding, load_bar_embedding_total\n",
    "import math\n",
    "\n",
    "file = '06 Encore A'\n",
    "ext= 'mp3'\n",
    "\n",
    "import time\n",
    "\n",
    "start = time.time()\n",
    "x = load_bar_embedding_total('milaklaw', [2, 3], [1,1], smooth_power, concatenate=True)\n",
    "end = time.time()\n",
    "print(f\"Time (new): {end - start}\")\n",
    "\n",
    "\n",
    "start = time.time()\n",
    "y = load_bar_embedding('milaklaw', [2,3], [1,1], smooth_power, square=False)\n",
    "end = time.time()\n",
    "print(f\"Time (old): {end - start}\")\n",
    "\n",
    "print(f\"Diff: {x[:10]-y[:10]}\")"
   ]
  }
 ],
 "metadata": {
  "kernelspec": {
   "display_name": "venv",
   "language": "python",
   "name": "python3"
  },
  "language_info": {
   "codemirror_mode": {
    "name": "ipython",
    "version": 3
   },
   "file_extension": ".py",
   "mimetype": "text/x-python",
   "name": "python",
   "nbconvert_exporter": "python",
   "pygments_lexer": "ipython3",
   "version": "3.12.3"
  }
 },
 "nbformat": 4,
 "nbformat_minor": 2
}
